{
 "cells": [
  {
   "cell_type": "code",
   "execution_count": 37,
   "id": "ba4705a1",
   "metadata": {},
   "outputs": [],
   "source": [
    "import requests\n",
    "from bs4 import BeautifulSoup as bs\n",
    "import pandas as pd\n",
    "from yandex_geocoder import Client\n",
    "\n",
    "key = '7444156a-d39f-4520-a35a-6dc7f2566bd1'"
   ]
  },
  {
   "cell_type": "code",
   "execution_count": 38,
   "id": "05ab2acb",
   "metadata": {},
   "outputs": [],
   "source": [
    "#Example\n",
    "#16:50:160508:216"
   ]
  },
  {
   "cell_type": "code",
   "execution_count": 39,
   "id": "09dd2bb5",
   "metadata": {},
   "outputs": [
    {
     "name": "stdout",
     "output_type": "stream",
     "text": [
      "Кадастровый номер: 16:50:160508:216\n"
     ]
    }
   ],
   "source": [
    "val = input(\"Кадастровый номер: \")"
   ]
  },
  {
   "cell_type": "code",
   "execution_count": 40,
   "id": "45143304",
   "metadata": {},
   "outputs": [
    {
     "name": "stdout",
     "output_type": "stream",
     "text": [
      "200\n"
     ]
    }
   ],
   "source": [
    "headers ={\n",
    "    'Connection': 'keep-alive',\n",
    "    'Cache-Control': 'max-age=0',\n",
    "    'Upgrade-Insecure-Requests': '1',\n",
    "    'User-Agent': 'Mozilla/5.0 (Windows NT 6.1) AppleWebKit/537.36 (KHTML, like Gecko) Chrome/53.0.2785.116 Safari/537.36 OPR/40.0.2308.81',\n",
    "    'Accept': 'text/html,application/xhtml+xml,application/xml;q=0.9,image/webp,*/*;q=0.8',\n",
    "    'DNT': '1',\n",
    "    'Accept-Encoding': 'gzip, deflate, lzma, sdch',\n",
    "    'Accept-Language': 'ru-RU,ru;q=0.8,en-US;q=0.6,en;q=0.4'\n",
    "}\n",
    "\n",
    "URL_TEMPLATE = \"https://egrp365.org/reestr?egrp=\" + val\n",
    "r = requests.get(URL_TEMPLATE, headers=headers)\n",
    "print(r.status_code)"
   ]
  },
  {
   "cell_type": "code",
   "execution_count": 41,
   "id": "6ca3d746",
   "metadata": {},
   "outputs": [],
   "source": [
    "info_list = []\n",
    "soup = bs(r.text, \"html.parser\")\n",
    "vacancies_info = soup.find(id=\"information_about_object\")\n",
    "for info in vacancies_info:\n",
    "    info_list.append(info.text)"
   ]
  },
  {
   "cell_type": "code",
   "execution_count": 42,
   "id": "7c667d2e",
   "metadata": {},
   "outputs": [
    {
     "name": "stdout",
     "output_type": "stream",
     "text": [
      "г Казань, ул Сафиуллина, д. 26а\n"
     ]
    }
   ],
   "source": [
    "address = info_list[11].split('Другое написание адреса — ')[1].replace('\\n','').replace('\\n','')\n",
    "print (address)"
   ]
  },
  {
   "cell_type": "code",
   "execution_count": 43,
   "id": "761acd8a",
   "metadata": {},
   "outputs": [],
   "source": [
    "coordinates = Client(k).coordinates(address)\n",
    "coors_s = [str(coordinates[1]) ,str(coordinates[0])]"
   ]
  },
  {
   "cell_type": "code",
   "execution_count": 44,
   "id": "941e9b17",
   "metadata": {},
   "outputs": [
    {
     "name": "stdout",
     "output_type": "stream",
     "text": [
      "['55.750322', '49.221084']\n"
     ]
    }
   ],
   "source": [
    "print(coors_s)"
   ]
  }
 ],
 "metadata": {
  "kernelspec": {
   "display_name": "Python 3 (ipykernel)",
   "language": "python",
   "name": "python3"
  },
  "language_info": {
   "codemirror_mode": {
    "name": "ipython",
    "version": 3
   },
   "file_extension": ".py",
   "mimetype": "text/x-python",
   "name": "python",
   "nbconvert_exporter": "python",
   "pygments_lexer": "ipython3",
   "version": "3.9.12"
  }
 },
 "nbformat": 4,
 "nbformat_minor": 5
}
