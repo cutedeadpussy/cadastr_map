{
 "cells": [
  {
   "cell_type": "code",
   "execution_count": 9,
   "id": "fd89aefc",
   "metadata": {},
   "outputs": [],
   "source": [
    "import requests\n",
    "from bs4 import BeautifulSoup as bs\n",
    "import pandas as pd"
   ]
  },
  {
   "cell_type": "code",
   "execution_count": 2,
   "id": "15a3078d",
   "metadata": {},
   "outputs": [],
   "source": [
    "import urllib3"
   ]
  },
  {
   "cell_type": "code",
   "execution_count": 3,
   "id": "bda6ecb1",
   "metadata": {},
   "outputs": [
    {
     "name": "stdout",
     "output_type": "stream",
     "text": [
      "Кадастровый номер: 16:00:000000:1178\n"
     ]
    }
   ],
   "source": [
    "val = input(\"Кадастровый номер: \")"
   ]
  },
  {
   "cell_type": "code",
   "execution_count": 5,
   "id": "8434c1ff",
   "metadata": {},
   "outputs": [],
   "source": [
    "#val = '16:0:0:1178'"
   ]
  },
  {
   "cell_type": "code",
   "execution_count": 5,
   "id": "4d00f8fd",
   "metadata": {},
   "outputs": [
    {
     "name": "stdout",
     "output_type": "stream",
     "text": [
      "200\n"
     ]
    }
   ],
   "source": [
    "headers ={\n",
    "    'Connection': 'keep-alive',\n",
    "    'Cache-Control': 'max-age=0',\n",
    "    'Upgrade-Insecure-Requests': '1',\n",
    "    'User-Agent': 'Mozilla/5.0 (Windows NT 6.1) AppleWebKit/537.36 (KHTML, like Gecko) Chrome/53.0.2785.116 Safari/537.36 OPR/40.0.2308.81',\n",
    "    'Accept': 'text/html,application/xhtml+xml,application/xml;q=0.9,image/webp,*/*;q=0.8',\n",
    "    'DNT': '1',\n",
    "    'Accept-Encoding': 'gzip, deflate, lzma, sdch',\n",
    "    'Accept-Language': 'ru-RU,ru;q=0.8,en-US;q=0.6,en;q=0.4'\n",
    "}\n",
    "\n",
    "URL_TEMPLATE = \"https://publichnaya-kadastrovaya-karta.com/object?id=\" + val\n",
    "r = requests.get(URL_TEMPLATE, headers=headers)\n",
    "print(r.status_code)"
   ]
  },
  {
   "cell_type": "code",
   "execution_count": 29,
   "id": "f05dca25",
   "metadata": {},
   "outputs": [
    {
     "name": "stdout",
     "output_type": "stream",
     "text": [
      "['55.731463616713', '49.200181200606']\n"
     ]
    }
   ],
   "source": [
    "soup = bs(r.content)\n",
    "info = soup.find_all('script')\n",
    "coor = str(info).split(\"var center = L.latLng(\")[1].split(\");\")[0].split(', ')\n",
    "print (coor)"
   ]
  },
  {
   "cell_type": "code",
   "execution_count": null,
   "id": "f393b995",
   "metadata": {},
   "outputs": [],
   "source": []
  }
 ],
 "metadata": {
  "kernelspec": {
   "display_name": "Python 3 (ipykernel)",
   "language": "python",
   "name": "python3"
  },
  "language_info": {
   "codemirror_mode": {
    "name": "ipython",
    "version": 3
   },
   "file_extension": ".py",
   "mimetype": "text/x-python",
   "name": "python",
   "nbconvert_exporter": "python",
   "pygments_lexer": "ipython3",
   "version": "3.9.12"
  }
 },
 "nbformat": 4,
 "nbformat_minor": 5
}
